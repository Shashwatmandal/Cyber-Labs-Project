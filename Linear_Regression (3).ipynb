{
  "cells": [
    {
      "cell_type": "markdown",
      "metadata": {
        "id": "ABE78fOWMGOF"
      },
      "source": [
        "# ***Importing Python Libraries***"
      ]
    },
    {
      "cell_type": "code",
      "execution_count": null,
      "metadata": {
        "id": "tQTmZ9kvMPao"
      },
      "outputs": [],
      "source": [
        "import numpy as np\n",
        "import pandas as pd\n",
        "import matplotlib.pyplot as plt\n",
        "import math"
      ]
    },
    {
      "cell_type": "markdown",
      "metadata": {
        "id": "-RC83XYFNYc4"
      },
      "source": [
        "# ***Importing Data and Making Numpy Arrays***"
      ]
    },
    {
      "cell_type": "code",
      "execution_count": null,
      "metadata": {
        "colab": {
          "base_uri": "https://localhost:8080/"
        },
        "id": "_CVXLHO5Ne9T",
        "outputId": "201e24ef-dbfa-4fc2-c54c-7777c0bf8208"
      },
      "outputs": [
        {
          "output_type": "execute_result",
          "data": {
            "text/plain": [
              "(50000, 1)"
            ]
          },
          "metadata": {},
          "execution_count": 72
        }
      ],
      "source": [
        "#importing training dataset\n",
        "data = pd.read_csv('/Lineardata_train.csv')\n",
        "\n",
        "x = data.iloc[:,1:21].values\n",
        "y = data.iloc[:,0].values\n",
        "\n",
        "y = y[np.newaxis,:]  #Changes 1D array to 2D array\n",
        "y = y.T              #Transpose of y\n",
        "y\n",
        "\n",
        "y.shape\n",
        "\n",
        "\n"
      ]
    },
    {
      "cell_type": "markdown",
      "metadata": {
        "id": "fi56vkXkVW5Y"
      },
      "source": [
        "# ***Z-Score Normalisation***"
      ]
    },
    {
      "cell_type": "code",
      "execution_count": null,
      "metadata": {
        "colab": {
          "base_uri": "https://localhost:8080/"
        },
        "id": "HFgz2YeDVmYU",
        "outputId": "945e12d0-c416-40af-8976-7538b017dd11"
      },
      "outputs": [
        {
          "output_type": "execute_result",
          "data": {
            "text/plain": [
              "array([[-0.8984144 ,  0.28041868, -0.41141982, ..., -0.63988069,\n",
              "         0.49752217, -0.73096293],\n",
              "       [-0.26507902,  0.94889359, -1.28076708, ...,  0.43557837,\n",
              "        -0.13614021,  1.21884291],\n",
              "       [-0.0576161 ,  0.20887242, -0.71150275, ..., -0.42542883,\n",
              "        -0.48379478, -0.58569095],\n",
              "       ...,\n",
              "       [-0.31954778,  0.53174828, -2.24113552, ..., -0.28270667,\n",
              "         0.43749398,  0.64305246],\n",
              "       [-2.38005048,  0.40118211,  0.19020459, ..., -0.33464656,\n",
              "         0.2000652 ,  1.30867386],\n",
              "       [ 1.39653589,  0.34479527,  1.40556658, ..., -0.13911407,\n",
              "         2.50555819, -1.57998401]])"
            ]
          },
          "metadata": {},
          "execution_count": 73
        }
      ],
      "source": [
        "mu = np.mean(x,axis=0)\n",
        "sigma = np.std(x,axis=0) #Compute Standard Deviation\n",
        "\n",
        "x_mean = (x - mu)\n",
        "x_norm = (x - mu)/sigma\n",
        "\n",
        "x_norm"
      ]
    },
    {
      "cell_type": "code",
      "execution_count": null,
      "metadata": {
        "colab": {
          "base_uri": "https://localhost:8080/",
          "height": 429
        },
        "id": "C3JqlsXPWB2E",
        "outputId": "cfbefcf7-c31e-4e7c-cae7-9fa77f581026"
      },
      "outputs": [
        {
          "output_type": "execute_result",
          "data": {
            "text/plain": [
              "         target  feature 1  feature 2  feature 3  feature 4  feature 5  \\\n",
              "0  -5928.102746  -0.900470   0.850978  -2.069526   0.573887  -6.878165   \n",
              "1   -738.890855  -0.266567   2.865496  -6.396780   1.517906  -0.339633   \n",
              "2 -20186.841587  -0.058919   0.635366  -3.563216   1.848845  -4.255648   \n",
              "3  30145.771674  -0.892483  -0.287881  -1.643086   0.630195  -2.989874   \n",
              "4  -3469.553888  -1.568419   1.535581  -4.562323  -1.953245  -3.505171   \n",
              "5  -6284.051736  -1.260712   3.036853   1.918733   2.214157   1.957066   \n",
              "6 -15373.753706  -0.766462   0.627637  -1.271643  -0.697185  -0.069451   \n",
              "7   6224.848304  -0.237525   3.782281  -5.670110   1.041920   1.134741   \n",
              "8   8560.824390  -0.607100  -5.194996  -0.682713   0.270797  -1.149809   \n",
              "9  -2854.372975   1.196293  -4.025780   3.074301  -2.537228   6.331712   \n",
              "\n",
              "   feature 6  feature 7  feature 8  feature 9  ...  feature 11  feature 12  \\\n",
              "0   1.533172  -6.163896 -18.134398  17.040815  ...  -12.524825    3.376208   \n",
              "1  -2.173984  -7.100097  30.940664  -1.158169  ...    5.686297   -6.862812   \n",
              "2  -6.495151  14.768858  20.968617  10.851276  ...   16.819230   -8.112394   \n",
              "3  -6.706778   1.035763  42.115932   4.530884  ...  -13.998268   -1.071906   \n",
              "4   2.970568  11.589140  32.642438  -6.865592  ...   10.057674   -3.719569   \n",
              "5   7.978219  -5.046293  29.575808 -23.314440  ...  -18.659953   -9.980004   \n",
              "6  -4.981282 -15.215631 -18.409177  -8.485672  ...   -5.895327    0.834872   \n",
              "7  11.688859  12.115892  -5.141902  -5.640048  ...   25.733965   -6.488337   \n",
              "8  -5.420161  11.759959   3.700489  21.654718  ...    9.886708   -2.215072   \n",
              "9   4.618821  22.550975   4.381451 -16.862850  ...   10.356097   -1.496659   \n",
              "\n",
              "   feature 13  feature 14  feature 15  feature 16  feature 17  feature 18  \\\n",
              "0  -19.266370  -24.347122  -21.504898  -83.231616   23.086856   -9.684523   \n",
              "1    7.168795  -17.873042  -51.859538    9.262772   19.648597    6.529141   \n",
              "2    7.120777    4.301635  -36.838036 -408.786938   14.054136   -6.451438   \n",
              "3   40.051813    4.392608  -31.311818  534.588309  -20.380642   -1.092364   \n",
              "4  -52.342557  -13.150729    0.922421   -6.818339   -9.958228   12.798234   \n",
              "5  -30.059749   12.865655  -10.557585  -42.231102  -35.692046  -13.831636   \n",
              "6  -24.618700  -18.496617   52.970332 -224.664039  -16.583647   -4.880494   \n",
              "7   20.364940   28.600771  -65.357918  130.909722   -7.280444   -2.563270   \n",
              "8  -25.864651   35.354610   69.991756   94.106575  -20.088546    3.132948   \n",
              "9  -12.446926  -40.582676  145.716369  113.250316  -18.593878  -13.172741   \n",
              "\n",
              "   feature 19  feature 20  \n",
              "0   18.211899  -16.848424  \n",
              "1   -4.577279   28.080530  \n",
              "2  -17.080408  -13.500953  \n",
              "3   28.453693   14.643806  \n",
              "4    0.804627    1.271561  \n",
              "5   -9.262314  -18.691032  \n",
              "6   -5.772892    3.087271  \n",
              "7  -20.165246  -19.448786  \n",
              "8   31.768590  -18.301467  \n",
              "9  -63.912928   41.844928  \n",
              "\n",
              "[10 rows x 21 columns]"
            ],
            "text/html": [
              "\n",
              "  <div id=\"df-e1c6df8b-340f-4ef3-8893-f03fc360afcc\" class=\"colab-df-container\">\n",
              "    <div>\n",
              "<style scoped>\n",
              "    .dataframe tbody tr th:only-of-type {\n",
              "        vertical-align: middle;\n",
              "    }\n",
              "\n",
              "    .dataframe tbody tr th {\n",
              "        vertical-align: top;\n",
              "    }\n",
              "\n",
              "    .dataframe thead th {\n",
              "        text-align: right;\n",
              "    }\n",
              "</style>\n",
              "<table border=\"1\" class=\"dataframe\">\n",
              "  <thead>\n",
              "    <tr style=\"text-align: right;\">\n",
              "      <th></th>\n",
              "      <th>target</th>\n",
              "      <th>feature 1</th>\n",
              "      <th>feature 2</th>\n",
              "      <th>feature 3</th>\n",
              "      <th>feature 4</th>\n",
              "      <th>feature 5</th>\n",
              "      <th>feature 6</th>\n",
              "      <th>feature 7</th>\n",
              "      <th>feature 8</th>\n",
              "      <th>feature 9</th>\n",
              "      <th>...</th>\n",
              "      <th>feature 11</th>\n",
              "      <th>feature 12</th>\n",
              "      <th>feature 13</th>\n",
              "      <th>feature 14</th>\n",
              "      <th>feature 15</th>\n",
              "      <th>feature 16</th>\n",
              "      <th>feature 17</th>\n",
              "      <th>feature 18</th>\n",
              "      <th>feature 19</th>\n",
              "      <th>feature 20</th>\n",
              "    </tr>\n",
              "  </thead>\n",
              "  <tbody>\n",
              "    <tr>\n",
              "      <th>0</th>\n",
              "      <td>-5928.102746</td>\n",
              "      <td>-0.900470</td>\n",
              "      <td>0.850978</td>\n",
              "      <td>-2.069526</td>\n",
              "      <td>0.573887</td>\n",
              "      <td>-6.878165</td>\n",
              "      <td>1.533172</td>\n",
              "      <td>-6.163896</td>\n",
              "      <td>-18.134398</td>\n",
              "      <td>17.040815</td>\n",
              "      <td>...</td>\n",
              "      <td>-12.524825</td>\n",
              "      <td>3.376208</td>\n",
              "      <td>-19.266370</td>\n",
              "      <td>-24.347122</td>\n",
              "      <td>-21.504898</td>\n",
              "      <td>-83.231616</td>\n",
              "      <td>23.086856</td>\n",
              "      <td>-9.684523</td>\n",
              "      <td>18.211899</td>\n",
              "      <td>-16.848424</td>\n",
              "    </tr>\n",
              "    <tr>\n",
              "      <th>1</th>\n",
              "      <td>-738.890855</td>\n",
              "      <td>-0.266567</td>\n",
              "      <td>2.865496</td>\n",
              "      <td>-6.396780</td>\n",
              "      <td>1.517906</td>\n",
              "      <td>-0.339633</td>\n",
              "      <td>-2.173984</td>\n",
              "      <td>-7.100097</td>\n",
              "      <td>30.940664</td>\n",
              "      <td>-1.158169</td>\n",
              "      <td>...</td>\n",
              "      <td>5.686297</td>\n",
              "      <td>-6.862812</td>\n",
              "      <td>7.168795</td>\n",
              "      <td>-17.873042</td>\n",
              "      <td>-51.859538</td>\n",
              "      <td>9.262772</td>\n",
              "      <td>19.648597</td>\n",
              "      <td>6.529141</td>\n",
              "      <td>-4.577279</td>\n",
              "      <td>28.080530</td>\n",
              "    </tr>\n",
              "    <tr>\n",
              "      <th>2</th>\n",
              "      <td>-20186.841587</td>\n",
              "      <td>-0.058919</td>\n",
              "      <td>0.635366</td>\n",
              "      <td>-3.563216</td>\n",
              "      <td>1.848845</td>\n",
              "      <td>-4.255648</td>\n",
              "      <td>-6.495151</td>\n",
              "      <td>14.768858</td>\n",
              "      <td>20.968617</td>\n",
              "      <td>10.851276</td>\n",
              "      <td>...</td>\n",
              "      <td>16.819230</td>\n",
              "      <td>-8.112394</td>\n",
              "      <td>7.120777</td>\n",
              "      <td>4.301635</td>\n",
              "      <td>-36.838036</td>\n",
              "      <td>-408.786938</td>\n",
              "      <td>14.054136</td>\n",
              "      <td>-6.451438</td>\n",
              "      <td>-17.080408</td>\n",
              "      <td>-13.500953</td>\n",
              "    </tr>\n",
              "    <tr>\n",
              "      <th>3</th>\n",
              "      <td>30145.771674</td>\n",
              "      <td>-0.892483</td>\n",
              "      <td>-0.287881</td>\n",
              "      <td>-1.643086</td>\n",
              "      <td>0.630195</td>\n",
              "      <td>-2.989874</td>\n",
              "      <td>-6.706778</td>\n",
              "      <td>1.035763</td>\n",
              "      <td>42.115932</td>\n",
              "      <td>4.530884</td>\n",
              "      <td>...</td>\n",
              "      <td>-13.998268</td>\n",
              "      <td>-1.071906</td>\n",
              "      <td>40.051813</td>\n",
              "      <td>4.392608</td>\n",
              "      <td>-31.311818</td>\n",
              "      <td>534.588309</td>\n",
              "      <td>-20.380642</td>\n",
              "      <td>-1.092364</td>\n",
              "      <td>28.453693</td>\n",
              "      <td>14.643806</td>\n",
              "    </tr>\n",
              "    <tr>\n",
              "      <th>4</th>\n",
              "      <td>-3469.553888</td>\n",
              "      <td>-1.568419</td>\n",
              "      <td>1.535581</td>\n",
              "      <td>-4.562323</td>\n",
              "      <td>-1.953245</td>\n",
              "      <td>-3.505171</td>\n",
              "      <td>2.970568</td>\n",
              "      <td>11.589140</td>\n",
              "      <td>32.642438</td>\n",
              "      <td>-6.865592</td>\n",
              "      <td>...</td>\n",
              "      <td>10.057674</td>\n",
              "      <td>-3.719569</td>\n",
              "      <td>-52.342557</td>\n",
              "      <td>-13.150729</td>\n",
              "      <td>0.922421</td>\n",
              "      <td>-6.818339</td>\n",
              "      <td>-9.958228</td>\n",
              "      <td>12.798234</td>\n",
              "      <td>0.804627</td>\n",
              "      <td>1.271561</td>\n",
              "    </tr>\n",
              "    <tr>\n",
              "      <th>5</th>\n",
              "      <td>-6284.051736</td>\n",
              "      <td>-1.260712</td>\n",
              "      <td>3.036853</td>\n",
              "      <td>1.918733</td>\n",
              "      <td>2.214157</td>\n",
              "      <td>1.957066</td>\n",
              "      <td>7.978219</td>\n",
              "      <td>-5.046293</td>\n",
              "      <td>29.575808</td>\n",
              "      <td>-23.314440</td>\n",
              "      <td>...</td>\n",
              "      <td>-18.659953</td>\n",
              "      <td>-9.980004</td>\n",
              "      <td>-30.059749</td>\n",
              "      <td>12.865655</td>\n",
              "      <td>-10.557585</td>\n",
              "      <td>-42.231102</td>\n",
              "      <td>-35.692046</td>\n",
              "      <td>-13.831636</td>\n",
              "      <td>-9.262314</td>\n",
              "      <td>-18.691032</td>\n",
              "    </tr>\n",
              "    <tr>\n",
              "      <th>6</th>\n",
              "      <td>-15373.753706</td>\n",
              "      <td>-0.766462</td>\n",
              "      <td>0.627637</td>\n",
              "      <td>-1.271643</td>\n",
              "      <td>-0.697185</td>\n",
              "      <td>-0.069451</td>\n",
              "      <td>-4.981282</td>\n",
              "      <td>-15.215631</td>\n",
              "      <td>-18.409177</td>\n",
              "      <td>-8.485672</td>\n",
              "      <td>...</td>\n",
              "      <td>-5.895327</td>\n",
              "      <td>0.834872</td>\n",
              "      <td>-24.618700</td>\n",
              "      <td>-18.496617</td>\n",
              "      <td>52.970332</td>\n",
              "      <td>-224.664039</td>\n",
              "      <td>-16.583647</td>\n",
              "      <td>-4.880494</td>\n",
              "      <td>-5.772892</td>\n",
              "      <td>3.087271</td>\n",
              "    </tr>\n",
              "    <tr>\n",
              "      <th>7</th>\n",
              "      <td>6224.848304</td>\n",
              "      <td>-0.237525</td>\n",
              "      <td>3.782281</td>\n",
              "      <td>-5.670110</td>\n",
              "      <td>1.041920</td>\n",
              "      <td>1.134741</td>\n",
              "      <td>11.688859</td>\n",
              "      <td>12.115892</td>\n",
              "      <td>-5.141902</td>\n",
              "      <td>-5.640048</td>\n",
              "      <td>...</td>\n",
              "      <td>25.733965</td>\n",
              "      <td>-6.488337</td>\n",
              "      <td>20.364940</td>\n",
              "      <td>28.600771</td>\n",
              "      <td>-65.357918</td>\n",
              "      <td>130.909722</td>\n",
              "      <td>-7.280444</td>\n",
              "      <td>-2.563270</td>\n",
              "      <td>-20.165246</td>\n",
              "      <td>-19.448786</td>\n",
              "    </tr>\n",
              "    <tr>\n",
              "      <th>8</th>\n",
              "      <td>8560.824390</td>\n",
              "      <td>-0.607100</td>\n",
              "      <td>-5.194996</td>\n",
              "      <td>-0.682713</td>\n",
              "      <td>0.270797</td>\n",
              "      <td>-1.149809</td>\n",
              "      <td>-5.420161</td>\n",
              "      <td>11.759959</td>\n",
              "      <td>3.700489</td>\n",
              "      <td>21.654718</td>\n",
              "      <td>...</td>\n",
              "      <td>9.886708</td>\n",
              "      <td>-2.215072</td>\n",
              "      <td>-25.864651</td>\n",
              "      <td>35.354610</td>\n",
              "      <td>69.991756</td>\n",
              "      <td>94.106575</td>\n",
              "      <td>-20.088546</td>\n",
              "      <td>3.132948</td>\n",
              "      <td>31.768590</td>\n",
              "      <td>-18.301467</td>\n",
              "    </tr>\n",
              "    <tr>\n",
              "      <th>9</th>\n",
              "      <td>-2854.372975</td>\n",
              "      <td>1.196293</td>\n",
              "      <td>-4.025780</td>\n",
              "      <td>3.074301</td>\n",
              "      <td>-2.537228</td>\n",
              "      <td>6.331712</td>\n",
              "      <td>4.618821</td>\n",
              "      <td>22.550975</td>\n",
              "      <td>4.381451</td>\n",
              "      <td>-16.862850</td>\n",
              "      <td>...</td>\n",
              "      <td>10.356097</td>\n",
              "      <td>-1.496659</td>\n",
              "      <td>-12.446926</td>\n",
              "      <td>-40.582676</td>\n",
              "      <td>145.716369</td>\n",
              "      <td>113.250316</td>\n",
              "      <td>-18.593878</td>\n",
              "      <td>-13.172741</td>\n",
              "      <td>-63.912928</td>\n",
              "      <td>41.844928</td>\n",
              "    </tr>\n",
              "  </tbody>\n",
              "</table>\n",
              "<p>10 rows × 21 columns</p>\n",
              "</div>\n",
              "    <div class=\"colab-df-buttons\">\n",
              "\n",
              "  <div class=\"colab-df-container\">\n",
              "    <button class=\"colab-df-convert\" onclick=\"convertToInteractive('df-e1c6df8b-340f-4ef3-8893-f03fc360afcc')\"\n",
              "            title=\"Convert this dataframe to an interactive table.\"\n",
              "            style=\"display:none;\">\n",
              "\n",
              "  <svg xmlns=\"http://www.w3.org/2000/svg\" height=\"24px\" viewBox=\"0 -960 960 960\">\n",
              "    <path d=\"M120-120v-720h720v720H120Zm60-500h600v-160H180v160Zm220 220h160v-160H400v160Zm0 220h160v-160H400v160ZM180-400h160v-160H180v160Zm440 0h160v-160H620v160ZM180-180h160v-160H180v160Zm440 0h160v-160H620v160Z\"/>\n",
              "  </svg>\n",
              "    </button>\n",
              "\n",
              "  <style>\n",
              "    .colab-df-container {\n",
              "      display:flex;\n",
              "      gap: 12px;\n",
              "    }\n",
              "\n",
              "    .colab-df-convert {\n",
              "      background-color: #E8F0FE;\n",
              "      border: none;\n",
              "      border-radius: 50%;\n",
              "      cursor: pointer;\n",
              "      display: none;\n",
              "      fill: #1967D2;\n",
              "      height: 32px;\n",
              "      padding: 0 0 0 0;\n",
              "      width: 32px;\n",
              "    }\n",
              "\n",
              "    .colab-df-convert:hover {\n",
              "      background-color: #E2EBFA;\n",
              "      box-shadow: 0px 1px 2px rgba(60, 64, 67, 0.3), 0px 1px 3px 1px rgba(60, 64, 67, 0.15);\n",
              "      fill: #174EA6;\n",
              "    }\n",
              "\n",
              "    .colab-df-buttons div {\n",
              "      margin-bottom: 4px;\n",
              "    }\n",
              "\n",
              "    [theme=dark] .colab-df-convert {\n",
              "      background-color: #3B4455;\n",
              "      fill: #D2E3FC;\n",
              "    }\n",
              "\n",
              "    [theme=dark] .colab-df-convert:hover {\n",
              "      background-color: #434B5C;\n",
              "      box-shadow: 0px 1px 3px 1px rgba(0, 0, 0, 0.15);\n",
              "      filter: drop-shadow(0px 1px 2px rgba(0, 0, 0, 0.3));\n",
              "      fill: #FFFFFF;\n",
              "    }\n",
              "  </style>\n",
              "\n",
              "    <script>\n",
              "      const buttonEl =\n",
              "        document.querySelector('#df-e1c6df8b-340f-4ef3-8893-f03fc360afcc button.colab-df-convert');\n",
              "      buttonEl.style.display =\n",
              "        google.colab.kernel.accessAllowed ? 'block' : 'none';\n",
              "\n",
              "      async function convertToInteractive(key) {\n",
              "        const element = document.querySelector('#df-e1c6df8b-340f-4ef3-8893-f03fc360afcc');\n",
              "        const dataTable =\n",
              "          await google.colab.kernel.invokeFunction('convertToInteractive',\n",
              "                                                    [key], {});\n",
              "        if (!dataTable) return;\n",
              "\n",
              "        const docLinkHtml = 'Like what you see? Visit the ' +\n",
              "          '<a target=\"_blank\" href=https://colab.research.google.com/notebooks/data_table.ipynb>data table notebook</a>'\n",
              "          + ' to learn more about interactive tables.';\n",
              "        element.innerHTML = '';\n",
              "        dataTable['output_type'] = 'display_data';\n",
              "        await google.colab.output.renderOutput(dataTable, element);\n",
              "        const docLink = document.createElement('div');\n",
              "        docLink.innerHTML = docLinkHtml;\n",
              "        element.appendChild(docLink);\n",
              "      }\n",
              "    </script>\n",
              "  </div>\n",
              "\n",
              "\n",
              "<div id=\"df-4c33b19e-c1ea-4060-a6f9-52b0fcb141ec\">\n",
              "  <button class=\"colab-df-quickchart\" onclick=\"quickchart('df-4c33b19e-c1ea-4060-a6f9-52b0fcb141ec')\"\n",
              "            title=\"Suggest charts\"\n",
              "            style=\"display:none;\">\n",
              "\n",
              "<svg xmlns=\"http://www.w3.org/2000/svg\" height=\"24px\"viewBox=\"0 0 24 24\"\n",
              "     width=\"24px\">\n",
              "    <g>\n",
              "        <path d=\"M19 3H5c-1.1 0-2 .9-2 2v14c0 1.1.9 2 2 2h14c1.1 0 2-.9 2-2V5c0-1.1-.9-2-2-2zM9 17H7v-7h2v7zm4 0h-2V7h2v10zm4 0h-2v-4h2v4z\"/>\n",
              "    </g>\n",
              "</svg>\n",
              "  </button>\n",
              "\n",
              "<style>\n",
              "  .colab-df-quickchart {\n",
              "      --bg-color: #E8F0FE;\n",
              "      --fill-color: #1967D2;\n",
              "      --hover-bg-color: #E2EBFA;\n",
              "      --hover-fill-color: #174EA6;\n",
              "      --disabled-fill-color: #AAA;\n",
              "      --disabled-bg-color: #DDD;\n",
              "  }\n",
              "\n",
              "  [theme=dark] .colab-df-quickchart {\n",
              "      --bg-color: #3B4455;\n",
              "      --fill-color: #D2E3FC;\n",
              "      --hover-bg-color: #434B5C;\n",
              "      --hover-fill-color: #FFFFFF;\n",
              "      --disabled-bg-color: #3B4455;\n",
              "      --disabled-fill-color: #666;\n",
              "  }\n",
              "\n",
              "  .colab-df-quickchart {\n",
              "    background-color: var(--bg-color);\n",
              "    border: none;\n",
              "    border-radius: 50%;\n",
              "    cursor: pointer;\n",
              "    display: none;\n",
              "    fill: var(--fill-color);\n",
              "    height: 32px;\n",
              "    padding: 0;\n",
              "    width: 32px;\n",
              "  }\n",
              "\n",
              "  .colab-df-quickchart:hover {\n",
              "    background-color: var(--hover-bg-color);\n",
              "    box-shadow: 0 1px 2px rgba(60, 64, 67, 0.3), 0 1px 3px 1px rgba(60, 64, 67, 0.15);\n",
              "    fill: var(--button-hover-fill-color);\n",
              "  }\n",
              "\n",
              "  .colab-df-quickchart-complete:disabled,\n",
              "  .colab-df-quickchart-complete:disabled:hover {\n",
              "    background-color: var(--disabled-bg-color);\n",
              "    fill: var(--disabled-fill-color);\n",
              "    box-shadow: none;\n",
              "  }\n",
              "\n",
              "  .colab-df-spinner {\n",
              "    border: 2px solid var(--fill-color);\n",
              "    border-color: transparent;\n",
              "    border-bottom-color: var(--fill-color);\n",
              "    animation:\n",
              "      spin 1s steps(1) infinite;\n",
              "  }\n",
              "\n",
              "  @keyframes spin {\n",
              "    0% {\n",
              "      border-color: transparent;\n",
              "      border-bottom-color: var(--fill-color);\n",
              "      border-left-color: var(--fill-color);\n",
              "    }\n",
              "    20% {\n",
              "      border-color: transparent;\n",
              "      border-left-color: var(--fill-color);\n",
              "      border-top-color: var(--fill-color);\n",
              "    }\n",
              "    30% {\n",
              "      border-color: transparent;\n",
              "      border-left-color: var(--fill-color);\n",
              "      border-top-color: var(--fill-color);\n",
              "      border-right-color: var(--fill-color);\n",
              "    }\n",
              "    40% {\n",
              "      border-color: transparent;\n",
              "      border-right-color: var(--fill-color);\n",
              "      border-top-color: var(--fill-color);\n",
              "    }\n",
              "    60% {\n",
              "      border-color: transparent;\n",
              "      border-right-color: var(--fill-color);\n",
              "    }\n",
              "    80% {\n",
              "      border-color: transparent;\n",
              "      border-right-color: var(--fill-color);\n",
              "      border-bottom-color: var(--fill-color);\n",
              "    }\n",
              "    90% {\n",
              "      border-color: transparent;\n",
              "      border-bottom-color: var(--fill-color);\n",
              "    }\n",
              "  }\n",
              "</style>\n",
              "\n",
              "  <script>\n",
              "    async function quickchart(key) {\n",
              "      const quickchartButtonEl =\n",
              "        document.querySelector('#' + key + ' button');\n",
              "      quickchartButtonEl.disabled = true;  // To prevent multiple clicks.\n",
              "      quickchartButtonEl.classList.add('colab-df-spinner');\n",
              "      try {\n",
              "        const charts = await google.colab.kernel.invokeFunction(\n",
              "            'suggestCharts', [key], {});\n",
              "      } catch (error) {\n",
              "        console.error('Error during call to suggestCharts:', error);\n",
              "      }\n",
              "      quickchartButtonEl.classList.remove('colab-df-spinner');\n",
              "      quickchartButtonEl.classList.add('colab-df-quickchart-complete');\n",
              "    }\n",
              "    (() => {\n",
              "      let quickchartButtonEl =\n",
              "        document.querySelector('#df-4c33b19e-c1ea-4060-a6f9-52b0fcb141ec button');\n",
              "      quickchartButtonEl.style.display =\n",
              "        google.colab.kernel.accessAllowed ? 'block' : 'none';\n",
              "    })();\n",
              "  </script>\n",
              "</div>\n",
              "\n",
              "    </div>\n",
              "  </div>\n"
            ]
          },
          "metadata": {},
          "execution_count": 74
        }
      ],
      "source": [
        "data.head(10)"
      ]
    },
    {
      "cell_type": "code",
      "execution_count": null,
      "metadata": {
        "colab": {
          "base_uri": "https://localhost:8080/"
        },
        "id": "2fax8ZcxYqyH",
        "outputId": "6903c9b5-81f5-40bc-86f7-07410f5e2b9d"
      },
      "outputs": [
        {
          "output_type": "execute_result",
          "data": {
            "text/plain": [
              "50000"
            ]
          },
          "metadata": {},
          "execution_count": 75
        }
      ],
      "source": [
        "m = len(data)\n",
        "m"
      ]
    },
    {
      "cell_type": "code",
      "execution_count": null,
      "metadata": {
        "colab": {
          "base_uri": "https://localhost:8080/"
        },
        "id": "F8VmEiJUY187",
        "outputId": "88a6c3d3-43c3-4087-d63b-1edcb9f220a5"
      },
      "outputs": [
        {
          "output_type": "execute_result",
          "data": {
            "text/plain": [
              "(50000, 20)"
            ]
          },
          "metadata": {},
          "execution_count": 76
        }
      ],
      "source": [
        "m,n = x.shape\n",
        "m,n"
      ]
    },
    {
      "cell_type": "markdown",
      "metadata": {
        "id": "g92u_Z4huGAI"
      },
      "source": [
        "# ***Computing Cost Function***"
      ]
    },
    {
      "cell_type": "code",
      "execution_count": null,
      "metadata": {
        "id": "WDyzVnejuJ3b"
      },
      "outputs": [],
      "source": [
        "def compute_cost(x_norm, y, w, b):\n",
        "\n",
        "  f_wb = np.dot(x_norm,w) + b\n",
        "  cost = (f_wb - y)\n",
        "  cost = cost**2\n",
        "  cost = cost/(2*m)\n",
        "  cost = np.sum(cost)\n",
        "\n",
        "  return cost\n"
      ]
    },
    {
      "cell_type": "markdown",
      "metadata": {
        "id": "OgMijy0uv8nN"
      },
      "source": [
        "# ***Finding Gradient Descent***"
      ]
    },
    {
      "cell_type": "code",
      "execution_count": null,
      "metadata": {
        "id": "_nm_NTWSwjlH"
      },
      "outputs": [],
      "source": [
        "def compute_gradient(x_norm, y, w, b):\n",
        "\n",
        "  y_hat = np.dot(x_norm,w) + b\n",
        "  error = (y_hat - y)\n",
        "\n",
        "  #dj_db\n",
        "  dj_db = np.sum(error)\n",
        "  dj_db = dj_db/m\n",
        "\n",
        "\n",
        "\n",
        "  #dj_dw\n",
        "\n",
        "  dj_dw = (1/m)*(np.dot(x_norm.T, error))\n",
        "\n",
        "  return dj_db, dj_dw\n"
      ]
    },
    {
      "cell_type": "code",
      "execution_count": null,
      "metadata": {
        "id": "sLE1lj2ZyFuz"
      },
      "outputs": [],
      "source": [
        "def gradient_descent(x_norm, y, w_in, b_in, cost_function, gradient_function, alpha, num_iters):\n",
        "    J_history = []\n",
        "    w_history = []\n",
        "\n",
        "    w=w_in\n",
        "    b = b_in\n",
        "\n",
        "    for i in range(num_iters):\n",
        "\n",
        "\n",
        "        dj_db,dj_dw = gradient_function(x_norm, y, w, b)\n",
        "\n",
        "        w = w - alpha * dj_dw\n",
        "\n",
        "        b = b - alpha * dj_db\n",
        "         # Save cost J at each iteration\n",
        "        if i<200000:      # prevent resource exhaustion\n",
        "            cost =  cost_function(x_norm, y, w, b)\n",
        "            J_history.append(cost)\n",
        "\n",
        "        # Print cost every at intervals 10 times or as many iterations if < 10\n",
        "        if i% math.ceil(num_iters/10) == 0:\n",
        "            w_history.append(w)\n",
        "            print(f\"Iteration {i:4}: Cost {float(J_history[-1]):8.2f}   \")\n",
        "\n",
        "    return w, b, J_history, w_history #return w and J,w history for graphing"
      ]
    },
    {
      "cell_type": "code",
      "source": [
        "initial_w = np.zeros((n,1))\n",
        "initial_b = 0\n",
        "# some gradient descent settings\n",
        "iterations = 1000\n",
        "alpha = 0.01\n",
        "# run gradient descent\n",
        "w_norm,b_norm,J_history, w_history = gradient_descent(x_norm ,y, initial_w, initial_b, compute_cost, compute_gradient, alpha, iterations)\n",
        "print(\"w,b found by gradient descent:\", w_norm, b_norm)"
      ],
      "metadata": {
        "colab": {
          "base_uri": "https://localhost:8080/"
        },
        "id": "K7JZqRb7Du7Z",
        "outputId": "6a4a1270-bbfb-42a7-b412-45dd42129bcc"
      },
      "execution_count": null,
      "outputs": [
        {
          "output_type": "stream",
          "name": "stdout",
          "text": [
            "Iteration    0: Cost 64219095.90   \n",
            "Iteration  100: Cost 8569112.53   \n",
            "Iteration  200: Cost 1144470.29   \n",
            "Iteration  300: Cost 152991.04   \n",
            "Iteration  400: Cost 20469.92   \n",
            "Iteration  500: Cost  2741.27   \n",
            "Iteration  600: Cost   367.43   \n",
            "Iteration  700: Cost    49.29   \n",
            "Iteration  800: Cost     6.62   \n",
            "Iteration  900: Cost     0.89   \n",
            "w,b found by gradient descent: [[2.19940496e+01]\n",
            " [3.31470577e+01]\n",
            " [9.94553526e+00]\n",
            " [6.06136337e+00]\n",
            " [1.75479594e+02]\n",
            " [3.29906252e+02]\n",
            " [2.53976527e+02]\n",
            " [9.02556418e+02]\n",
            " [4.35808866e+02]\n",
            " [8.38887472e+01]\n",
            " [1.21189538e+02]\n",
            " [1.60609063e+03]\n",
            " [1.67661255e+03]\n",
            " [1.31336742e+03]\n",
            " [5.99368019e+02]\n",
            " [1.05490579e+04]\n",
            " [5.04413994e+02]\n",
            " [6.78415089e+02]\n",
            " [3.16474008e+03]\n",
            " [2.30425853e+02]] 60.361182636526635\n"
          ]
        }
      ]
    },
    {
      "cell_type": "code",
      "source": [
        "compute_cost(x_norm, y, w=w_norm, b=b_norm)"
      ],
      "metadata": {
        "colab": {
          "base_uri": "https://localhost:8080/"
        },
        "id": "aFUz7VyODzd7",
        "outputId": "6142787c-cfa0-449f-d0f1-5c2c0d0822f2"
      },
      "execution_count": null,
      "outputs": [
        {
          "output_type": "execute_result",
          "data": {
            "text/plain": [
              "0.12707819240996898"
            ]
          },
          "metadata": {},
          "execution_count": 81
        }
      ]
    },
    {
      "cell_type": "code",
      "source": [
        "t = np.arange(0, iterations)\n",
        "plt.plot(t,J_history )\n",
        "plt.xlabel(\"iterations\")\n",
        "plt.ylabel(\"cost\")\n",
        "plt.title(\"iterations vs cost\")\n",
        "\n",
        "plt.show()"
      ],
      "metadata": {
        "colab": {
          "base_uri": "https://localhost:8080/",
          "height": 472
        },
        "id": "jPdNUs5DFHH_",
        "outputId": "c36a9ea4-3e0a-4fb5-dbc0-a159b645aa02"
      },
      "execution_count": null,
      "outputs": [
        {
          "output_type": "display_data",
          "data": {
            "text/plain": [
              "<Figure size 640x480 with 1 Axes>"
            ],
            "image/png": "[encoded data removed]"
          },
          "metadata": {}
        }
      ]
    },
    {
      "cell_type": "markdown",
      "source": [
        "# ***R2 Score***"
      ],
      "metadata": {
        "id": "Tg7pFZ9eSrQh"
      }
    },
    {
      "cell_type": "code",
      "source": [
        "\n",
        "\n",
        "# Model Evaluation - R2 Score\n",
        "def r2_score(Y, Y_pred):\n",
        "    mean_y = np.mean(Y)\n",
        "    ss_tot = sum((Y - mean_y) ** 2)\n",
        "    ss_res = sum((Y - Y_pred) ** 2)\n",
        "    a= (ss_res)/(ss_tot)\n",
        "    r2=1-a\n",
        "\n",
        "    return r2\n",
        "\n",
        "Y_pred = np.dot(x_norm, w_norm) + b_norm\n",
        "\n",
        "print(\"R2 Score\")\n",
        "print(r2_score(y, Y_pred))"
      ],
      "metadata": {
        "colab": {
          "base_uri": "https://localhost:8080/"
        },
        "id": "Z7uco4p_FNQ4",
        "outputId": "1e268541-79e0-46f1-dcaf-848e38f44fca"
      },
      "execution_count": null,
      "outputs": [
        {
          "output_type": "stream",
          "name": "stdout",
          "text": [
            "R2 Score\n",
            "[1.]\n"
          ]
        }
      ]
    },
    {
      "cell_type": "markdown",
      "source": [
        "Given the remarkably low cost and a R2 score of 1, there's a potential risk of overfitting. To mitigate this, we'll implement a cross-validation set and assess its predictions to ensure robust model performance."
      ],
      "metadata": {
        "id": "Dc1mwEXA2L7F"
      }
    },
    {
      "cell_type": "markdown",
      "source": [
        "# ***Cross Validation Check for overfitting***"
      ],
      "metadata": {
        "id": "WzLB3VwT4D_L"
      }
    },
    {
      "cell_type": "code",
      "source": [
        "data = pd.read_csv('/Lineardata_train.csv')\n",
        "x = data.iloc[0:40000,1:21].values\n",
        "\n",
        "y = data.iloc[0:40000,0].values\n",
        "y=y[np.newaxis,:]\n",
        "y=y.T\n",
        "y"
      ],
      "metadata": {
        "colab": {
          "base_uri": "https://localhost:8080/"
        },
        "id": "b0tlsiB24LCp",
        "outputId": "293fcd09-f29f-4a3a-e2f6-e5686579fc61"
      },
      "execution_count": null,
      "outputs": [
        {
          "output_type": "execute_result",
          "data": {
            "text/plain": [
              "array([[ -5928.10274562],\n",
              "       [  -738.89085527],\n",
              "       [-20186.84158668],\n",
              "       ...,\n",
              "       [-11223.58412499],\n",
              "       [ -3301.61447401],\n",
              "       [ -4203.66603003]])"
            ]
          },
          "metadata": {},
          "execution_count": 84
        }
      ]
    },
    {
      "cell_type": "code",
      "source": [
        "mu = np.mean(x,axis=0)\n",
        "sigma = np.std(x,axis=0) #Compute Standard Deviation\n",
        "\n",
        "x_mean = (x - mu)\n",
        "x_norm = (x - mu)/sigma\n",
        "\n",
        "x_norm"
      ],
      "metadata": {
        "colab": {
          "base_uri": "https://localhost:8080/"
        },
        "id": "pTr6RvpG5ytv",
        "outputId": "0a2116de-b4eb-469d-8e00-ee7bca6a941d"
      },
      "execution_count": null,
      "outputs": [
        {
          "output_type": "execute_result",
          "data": {
            "text/plain": [
              "array([[-0.89952244,  0.28096817, -0.40887204, ..., -0.64121201,\n",
              "         0.49945553, -0.73157031],\n",
              "       [-0.26581694,  0.94970342, -1.27651201, ...,  0.43462046,\n",
              "        -0.13494141,  1.22285206],\n",
              "       [-0.05823278,  0.20939405, -0.70836565, ..., -0.42668568,\n",
              "        -0.48299901, -0.58595437],\n",
              "       ...,\n",
              "       [-0.28273379, -2.09023884,  0.2112759 , ..., -0.40722389,\n",
              "        -0.52991852, -0.32992229],\n",
              "       [ 0.54184769,  0.46144572,  0.02598928, ..., -0.56676795,\n",
              "         0.43661638, -0.65614785],\n",
              "       [-1.09268578,  1.16137928, -0.23257352, ..., -0.13201522,\n",
              "         1.0387998 , -1.70828601]])"
            ]
          },
          "metadata": {},
          "execution_count": 85
        }
      ]
    },
    {
      "cell_type": "code",
      "source": [
        "m = 40000\n",
        "m"
      ],
      "metadata": {
        "colab": {
          "base_uri": "https://localhost:8080/"
        },
        "id": "Ad4WaOBq54Rc",
        "outputId": "54bcf875-547b-4b35-b0e1-1b0b3d005313"
      },
      "execution_count": null,
      "outputs": [
        {
          "output_type": "execute_result",
          "data": {
            "text/plain": [
              "40000"
            ]
          },
          "metadata": {},
          "execution_count": 86
        }
      ]
    },
    {
      "cell_type": "code",
      "source": [
        "m,n = x.shape\n",
        "m,n"
      ],
      "metadata": {
        "colab": {
          "base_uri": "https://localhost:8080/"
        },
        "id": "H_kDtz8L54N1",
        "outputId": "53db9da4-72b9-4bf9-f8fb-a84615bf4e00"
      },
      "execution_count": null,
      "outputs": [
        {
          "output_type": "execute_result",
          "data": {
            "text/plain": [
              "(40000, 20)"
            ]
          },
          "metadata": {},
          "execution_count": 87
        }
      ]
    },
    {
      "cell_type": "code",
      "source": [
        "def compute_cost(x_norm, y, w, b):\n",
        "\n",
        "  f_wb = np.dot(x_norm,w) + b\n",
        "  cost = (f_wb - y)\n",
        "  cost = cost**2\n",
        "  cost = cost/(2*m)\n",
        "  cost = np.sum(cost)\n",
        "\n",
        "  return cost\n"
      ],
      "metadata": {
        "id": "j_HEDdld54LW"
      },
      "execution_count": null,
      "outputs": []
    },
    {
      "cell_type": "code",
      "source": [
        "def compute_gradient(x_norm, y, w, b):\n",
        "\n",
        "  y_hat = np.dot(x_norm,w) + b\n",
        "  error = (y_hat - y)\n",
        "\n",
        "  #dj_db\n",
        "  dj_db = np.sum(error)\n",
        "  dj_db = dj_db/m\n",
        "\n",
        "\n",
        "\n",
        "  #dj_dw\n",
        "\n",
        "  dj_dw = (1/m)*(np.dot(x_norm.T, error))\n",
        "\n",
        "  return dj_db, dj_dw"
      ],
      "metadata": {
        "id": "26tuLcof54Is"
      },
      "execution_count": null,
      "outputs": []
    },
    {
      "cell_type": "code",
      "source": [
        "def gradient_descent(x_norm, y, w_in, b_in, cost_function, gradient_function, alpha, num_iters):\n",
        "    J_history = []\n",
        "    w_history = []\n",
        "\n",
        "    w=w_in\n",
        "    b = b_in\n",
        "\n",
        "    for i in range(num_iters):\n",
        "\n",
        "\n",
        "        dj_db,dj_dw = gradient_function(x_norm, y, w, b)\n",
        "\n",
        "        w = w - alpha * dj_dw\n",
        "\n",
        "        b = b - alpha * dj_db\n",
        "         # Save cost J at each iteration\n",
        "        if i<200000:      # prevent resource exhaustion\n",
        "            cost =  cost_function(x_norm, y, w, b)\n",
        "            J_history.append(cost)\n",
        "\n",
        "        # Print cost every at intervals 10 times or as many iterations if < 10\n",
        "        if i% math.ceil(num_iters/10) == 0:\n",
        "            w_history.append(w)\n",
        "            print(f\"Iteration {i:4}: Cost {float(J_history[-1]):8.2f}   \")\n",
        "\n",
        "    return w, b, J_history, w_history #return w and J,w history for graphing"
      ],
      "metadata": {
        "id": "7itHY-qY54Fj"
      },
      "execution_count": null,
      "outputs": []
    },
    {
      "cell_type": "code",
      "source": [
        "initial_w = np.zeros((n,1))\n",
        "initial_b = 0\n",
        "# some gradient descent settings\n",
        "iterations = 1000\n",
        "alpha = 0.01\n",
        "# run gradient descent\n",
        "w_norm,b_norm,J_history, w_history = gradient_descent(x_norm ,y, initial_w, initial_b, compute_cost, compute_gradient, alpha, iterations)\n",
        "print(\"w,b found by gradient descent:\", w_norm, b_norm)"
      ],
      "metadata": {
        "colab": {
          "base_uri": "https://localhost:8080/"
        },
        "id": "JMjHKr7Y54B_",
        "outputId": "42f4daef-8cc0-490d-adfd-f560dbc9d7fd"
      },
      "execution_count": null,
      "outputs": [
        {
          "output_type": "stream",
          "name": "stdout",
          "text": [
            "Iteration    0: Cost 64441403.30   \n",
            "Iteration  100: Cost 8583838.67   \n",
            "Iteration  200: Cost 1145173.57   \n",
            "Iteration  300: Cost 153014.23   \n",
            "Iteration  400: Cost 20476.70   \n",
            "Iteration  500: Cost  2744.43   \n",
            "Iteration  600: Cost   368.39   \n",
            "Iteration  700: Cost    49.53   \n",
            "Iteration  800: Cost     6.67   \n",
            "Iteration  900: Cost     0.90   \n",
            "w,b found by gradient descent: [[2.19710942e+01]\n",
            " [3.31517014e+01]\n",
            " [9.97026563e+00]\n",
            " [6.03740160e+00]\n",
            " [1.75910497e+02]\n",
            " [3.29275655e+02]\n",
            " [2.53988370e+02]\n",
            " [9.01813819e+02]\n",
            " [4.34991290e+02]\n",
            " [8.38125874e+01]\n",
            " [1.21143700e+02]\n",
            " [1.60326087e+03]\n",
            " [1.67463587e+03]\n",
            " [1.31820380e+03]\n",
            " [5.97180967e+02]\n",
            " [1.05666403e+04]\n",
            " [5.04791629e+02]\n",
            " [6.78187214e+02]\n",
            " [3.16106676e+03]\n",
            " [2.29873717e+02]] 77.26372798729972\n"
          ]
        }
      ]
    },
    {
      "cell_type": "code",
      "source": [
        "compute_cost(x_norm, y, w=w_norm, b=b_norm)"
      ],
      "metadata": {
        "colab": {
          "base_uri": "https://localhost:8080/"
        },
        "id": "VgxKtLZ853_i",
        "outputId": "e75c37e1-2841-4f62-fa00-99e235d1bef6"
      },
      "execution_count": null,
      "outputs": [
        {
          "output_type": "execute_result",
          "data": {
            "text/plain": [
              "0.12888896652052217"
            ]
          },
          "metadata": {},
          "execution_count": 92
        }
      ]
    },
    {
      "cell_type": "code",
      "source": [
        "x_test = data.iloc[40001:500001,1:21]\n",
        "x_test"
      ],
      "metadata": {
        "colab": {
          "base_uri": "https://localhost:8080/",
          "height": 461
        },
        "id": "YirDpAZu6RpF",
        "outputId": "97d66287-0b62-4746-97b3-72219fe3841c"
      },
      "execution_count": null,
      "outputs": [
        {
          "output_type": "execute_result",
          "data": {
            "text/plain": [
              "       feature 1  feature 2  feature 3  feature 4  feature 5  feature 6  \\\n",
              "40001  -0.618576   5.222443   0.406589  -3.370204  -3.222479   9.161103   \n",
              "40002  -0.398014   0.867377   1.378218  -1.780250  -1.798348  -1.822382   \n",
              "40003   0.383696   2.558227   1.139335   1.421192  -0.528055  -0.654378   \n",
              "40004  -0.386058   1.125976   2.372546   2.275252  -3.194435   1.289263   \n",
              "40005   0.060692   2.695504   4.329682   3.847038  -3.073733   4.531679   \n",
              "...          ...        ...        ...        ...        ...        ...   \n",
              "49995   2.029910  -0.928164  -2.463563   5.312071   2.070290   0.835355   \n",
              "49996  -0.223475   0.341542  -4.423256  -0.104668   4.384320  -2.290826   \n",
              "49997  -0.321085   1.608386 -11.177100  -1.140550 -10.832891  -8.625981   \n",
              "49998  -2.383432   1.214911   0.925113   0.017874   2.022561   1.209647   \n",
              "49999   1.396534   1.044984   6.974686  -2.503387  -6.951460  -7.683350   \n",
              "\n",
              "       feature 7  feature 8  feature 9  feature 10  feature 11  feature 12  \\\n",
              "40001 -12.605723  -7.465044  25.748740    0.645956  -10.322295    3.739687   \n",
              "40002  -5.218400 -13.434848  25.357143    1.708040    3.975443    6.449202   \n",
              "40003  -5.581162   8.265880   0.299431   -2.724842   10.407428   -6.580987   \n",
              "40004  -1.028185   0.485469  -1.862515    2.001194    0.644701   -0.092773   \n",
              "40005  -1.223751 -31.337195 -12.727515  -10.040566    8.713627   -2.531028   \n",
              "...          ...        ...        ...         ...         ...         ...   \n",
              "49995  -4.421930  18.292309 -10.357047    2.282597   -2.827488   17.940836   \n",
              "49996   4.612476  29.667901  -9.675776    4.867704  -17.744738   -0.708422   \n",
              "49997 -27.740091 -14.166217   9.169728   -6.108281    3.841781  -17.941987   \n",
              "49998   5.006908 -12.043059  -5.756141   -0.690947    5.308136   12.387029   \n",
              "49999 -15.804647  -5.326198  11.574373   -2.756169    5.594694   -2.408064   \n",
              "\n",
              "       feature 13  feature 14  feature 15  feature 16  feature 17  feature 18  \\\n",
              "40001   54.233027  -14.584753    4.988900  -36.191444  -10.879139  -40.480525   \n",
              "40002  -26.738012   -4.669001   -9.727967 -213.839319   -5.050234   12.957648   \n",
              "40003  -43.846525  -14.278889 -111.630099  -37.420398  -33.526785   18.217070   \n",
              "40004   -3.739834   -4.345057  -34.148039  260.479990    1.425653    0.946440   \n",
              "40005   -0.146825    5.012959    4.935520   13.641149   10.614591  -29.870722   \n",
              "...           ...         ...         ...         ...         ...         ...   \n",
              "49995   25.724137  -29.713820    0.625372 -183.410260   19.439815    6.640099   \n",
              "49996   15.907878   10.865072  -31.280568 -354.186800    6.363459    0.370644   \n",
              "49997   -2.167623   11.336067   -2.542123  -98.327808  -13.690353   -4.299753   \n",
              "49998   20.220357   -1.359887   83.958829 -314.127483   -2.550699   -5.082801   \n",
              "49999    6.790581  -12.917546   -5.899725  -24.414767  -37.180535   -2.134946   \n",
              "\n",
              "       feature 19  feature 20  \n",
              "40001    4.400838  -42.907315  \n",
              "40002   58.224124   27.576099  \n",
              "40003   23.522589   -1.552342  \n",
              "40004  -34.777467  -10.735782  \n",
              "40005    4.735756    1.719702  \n",
              "...           ...         ...  \n",
              "49995  -41.093484   -1.010290  \n",
              "49996   35.952861    3.752642  \n",
              "49997   16.053032   14.812715  \n",
              "49998    7.514089   30.150485  \n",
              "49999   90.429367  -36.412232  \n",
              "\n",
              "[9999 rows x 20 columns]"
            ],
            "text/html": [
              "\n",
              "  <div id=\"df-9a590650-6f25-4a09-9116-15c352e67ff6\" class=\"colab-df-container\">\n",
              "    <div>\n",
              "<style scoped>\n",
              "    .dataframe tbody tr th:only-of-type {\n",
              "        vertical-align: middle;\n",
              "    }\n",
              "\n",
              "    .dataframe tbody tr th {\n",
              "        vertical-align: top;\n",
              "    }\n",
              "\n",
              "    .dataframe thead th {\n",
              "        text-align: right;\n",
              "    }\n",
              "</style>\n",
              "<table border=\"1\" class=\"dataframe\">\n",
              "  <thead>\n",
              "    <tr style=\"text-align: right;\">\n",
              "      <th></th>\n",
              "      <th>feature 1</th>\n",
              "      <th>feature 2</th>\n",
              "      <th>feature 3</th>\n",
              "      <th>feature 4</th>\n",
              "      <th>feature 5</th>\n",
              "      <th>feature 6</th>\n",
              "      <th>feature 7</th>\n",
              "      <th>feature 8</th>\n",
              "      <th>feature 9</th>\n",
              "      <th>feature 10</th>\n",
              "      <th>feature 11</th>\n",
              "      <th>feature 12</th>\n",
              "      <th>feature 13</th>\n",
              "      <th>feature 14</th>\n",
              "      <th>feature 15</th>\n",
              "      <th>feature 16</th>\n",
              "      <th>feature 17</th>\n",
              "      <th>feature 18</th>\n",
              "      <th>feature 19</th>\n",
              "      <th>feature 20</th>\n",
              "    </tr>\n",
              "  </thead>\n",
              "  <tbody>\n",
              "    <tr>\n",
              "      <th>40001</th>\n",
              "      <td>-0.618576</td>\n",
              "      <td>5.222443</td>\n",
              "      <td>0.406589</td>\n",
              "      <td>-3.370204</td>\n",
              "      <td>-3.222479</td>\n",
              "      <td>9.161103</td>\n",
              "      <td>-12.605723</td>\n",
              "      <td>-7.465044</td>\n",
              "      <td>25.748740</td>\n",
              "      <td>0.645956</td>\n",
              "      <td>-10.322295</td>\n",
              "      <td>3.739687</td>\n",
              "      <td>54.233027</td>\n",
              "      <td>-14.584753</td>\n",
              "      <td>4.988900</td>\n",
              "      <td>-36.191444</td>\n",
              "      <td>-10.879139</td>\n",
              "      <td>-40.480525</td>\n",
              "      <td>4.400838</td>\n",
              "      <td>-42.907315</td>\n",
              "    </tr>\n",
              "    <tr>\n",
              "      <th>40002</th>\n",
              "      <td>-0.398014</td>\n",
              "      <td>0.867377</td>\n",
              "      <td>1.378218</td>\n",
              "      <td>-1.780250</td>\n",
              "      <td>-1.798348</td>\n",
              "      <td>-1.822382</td>\n",
              "      <td>-5.218400</td>\n",
              "      <td>-13.434848</td>\n",
              "      <td>25.357143</td>\n",
              "      <td>1.708040</td>\n",
              "      <td>3.975443</td>\n",
              "      <td>6.449202</td>\n",
              "      <td>-26.738012</td>\n",
              "      <td>-4.669001</td>\n",
              "      <td>-9.727967</td>\n",
              "      <td>-213.839319</td>\n",
              "      <td>-5.050234</td>\n",
              "      <td>12.957648</td>\n",
              "      <td>58.224124</td>\n",
              "      <td>27.576099</td>\n",
              "    </tr>\n",
              "    <tr>\n",
              "      <th>40003</th>\n",
              "      <td>0.383696</td>\n",
              "      <td>2.558227</td>\n",
              "      <td>1.139335</td>\n",
              "      <td>1.421192</td>\n",
              "      <td>-0.528055</td>\n",
              "      <td>-0.654378</td>\n",
              "      <td>-5.581162</td>\n",
              "      <td>8.265880</td>\n",
              "      <td>0.299431</td>\n",
              "      <td>-2.724842</td>\n",
              "      <td>10.407428</td>\n",
              "      <td>-6.580987</td>\n",
              "      <td>-43.846525</td>\n",
              "      <td>-14.278889</td>\n",
              "      <td>-111.630099</td>\n",
              "      <td>-37.420398</td>\n",
              "      <td>-33.526785</td>\n",
              "      <td>18.217070</td>\n",
              "      <td>23.522589</td>\n",
              "      <td>-1.552342</td>\n",
              "    </tr>\n",
              "    <tr>\n",
              "      <th>40004</th>\n",
              "      <td>-0.386058</td>\n",
              "      <td>1.125976</td>\n",
              "      <td>2.372546</td>\n",
              "      <td>2.275252</td>\n",
              "      <td>-3.194435</td>\n",
              "      <td>1.289263</td>\n",
              "      <td>-1.028185</td>\n",
              "      <td>0.485469</td>\n",
              "      <td>-1.862515</td>\n",
              "      <td>2.001194</td>\n",
              "      <td>0.644701</td>\n",
              "      <td>-0.092773</td>\n",
              "      <td>-3.739834</td>\n",
              "      <td>-4.345057</td>\n",
              "      <td>-34.148039</td>\n",
              "      <td>260.479990</td>\n",
              "      <td>1.425653</td>\n",
              "      <td>0.946440</td>\n",
              "      <td>-34.777467</td>\n",
              "      <td>-10.735782</td>\n",
              "    </tr>\n",
              "    <tr>\n",
              "      <th>40005</th>\n",
              "      <td>0.060692</td>\n",
              "      <td>2.695504</td>\n",
              "      <td>4.329682</td>\n",
              "      <td>3.847038</td>\n",
              "      <td>-3.073733</td>\n",
              "      <td>4.531679</td>\n",
              "      <td>-1.223751</td>\n",
              "      <td>-31.337195</td>\n",
              "      <td>-12.727515</td>\n",
              "      <td>-10.040566</td>\n",
              "      <td>8.713627</td>\n",
              "      <td>-2.531028</td>\n",
              "      <td>-0.146825</td>\n",
              "      <td>5.012959</td>\n",
              "      <td>4.935520</td>\n",
              "      <td>13.641149</td>\n",
              "      <td>10.614591</td>\n",
              "      <td>-29.870722</td>\n",
              "      <td>4.735756</td>\n",
              "      <td>1.719702</td>\n",
              "    </tr>\n",
              "    <tr>\n",
              "      <th>...</th>\n",
              "      <td>...</td>\n",
              "      <td>...</td>\n",
              "      <td>...</td>\n",
              "      <td>...</td>\n",
              "      <td>...</td>\n",
              "      <td>...</td>\n",
              "      <td>...</td>\n",
              "      <td>...</td>\n",
              "      <td>...</td>\n",
              "      <td>...</td>\n",
              "      <td>...</td>\n",
              "      <td>...</td>\n",
              "      <td>...</td>\n",
              "      <td>...</td>\n",
              "      <td>...</td>\n",
              "      <td>...</td>\n",
              "      <td>...</td>\n",
              "      <td>...</td>\n",
              "      <td>...</td>\n",
              "      <td>...</td>\n",
              "    </tr>\n",
              "    <tr>\n",
              "      <th>49995</th>\n",
              "      <td>2.029910</td>\n",
              "      <td>-0.928164</td>\n",
              "      <td>-2.463563</td>\n",
              "      <td>5.312071</td>\n",
              "      <td>2.070290</td>\n",
              "      <td>0.835355</td>\n",
              "      <td>-4.421930</td>\n",
              "      <td>18.292309</td>\n",
              "      <td>-10.357047</td>\n",
              "      <td>2.282597</td>\n",
              "      <td>-2.827488</td>\n",
              "      <td>17.940836</td>\n",
              "      <td>25.724137</td>\n",
              "      <td>-29.713820</td>\n",
              "      <td>0.625372</td>\n",
              "      <td>-183.410260</td>\n",
              "      <td>19.439815</td>\n",
              "      <td>6.640099</td>\n",
              "      <td>-41.093484</td>\n",
              "      <td>-1.010290</td>\n",
              "    </tr>\n",
              "    <tr>\n",
              "      <th>49996</th>\n",
              "      <td>-0.223475</td>\n",
              "      <td>0.341542</td>\n",
              "      <td>-4.423256</td>\n",
              "      <td>-0.104668</td>\n",
              "      <td>4.384320</td>\n",
              "      <td>-2.290826</td>\n",
              "      <td>4.612476</td>\n",
              "      <td>29.667901</td>\n",
              "      <td>-9.675776</td>\n",
              "      <td>4.867704</td>\n",
              "      <td>-17.744738</td>\n",
              "      <td>-0.708422</td>\n",
              "      <td>15.907878</td>\n",
              "      <td>10.865072</td>\n",
              "      <td>-31.280568</td>\n",
              "      <td>-354.186800</td>\n",
              "      <td>6.363459</td>\n",
              "      <td>0.370644</td>\n",
              "      <td>35.952861</td>\n",
              "      <td>3.752642</td>\n",
              "    </tr>\n",
              "    <tr>\n",
              "      <th>49997</th>\n",
              "      <td>-0.321085</td>\n",
              "      <td>1.608386</td>\n",
              "      <td>-11.177100</td>\n",
              "      <td>-1.140550</td>\n",
              "      <td>-10.832891</td>\n",
              "      <td>-8.625981</td>\n",
              "      <td>-27.740091</td>\n",
              "      <td>-14.166217</td>\n",
              "      <td>9.169728</td>\n",
              "      <td>-6.108281</td>\n",
              "      <td>3.841781</td>\n",
              "      <td>-17.941987</td>\n",
              "      <td>-2.167623</td>\n",
              "      <td>11.336067</td>\n",
              "      <td>-2.542123</td>\n",
              "      <td>-98.327808</td>\n",
              "      <td>-13.690353</td>\n",
              "      <td>-4.299753</td>\n",
              "      <td>16.053032</td>\n",
              "      <td>14.812715</td>\n",
              "    </tr>\n",
              "    <tr>\n",
              "      <th>49998</th>\n",
              "      <td>-2.383432</td>\n",
              "      <td>1.214911</td>\n",
              "      <td>0.925113</td>\n",
              "      <td>0.017874</td>\n",
              "      <td>2.022561</td>\n",
              "      <td>1.209647</td>\n",
              "      <td>5.006908</td>\n",
              "      <td>-12.043059</td>\n",
              "      <td>-5.756141</td>\n",
              "      <td>-0.690947</td>\n",
              "      <td>5.308136</td>\n",
              "      <td>12.387029</td>\n",
              "      <td>20.220357</td>\n",
              "      <td>-1.359887</td>\n",
              "      <td>83.958829</td>\n",
              "      <td>-314.127483</td>\n",
              "      <td>-2.550699</td>\n",
              "      <td>-5.082801</td>\n",
              "      <td>7.514089</td>\n",
              "      <td>30.150485</td>\n",
              "    </tr>\n",
              "    <tr>\n",
              "      <th>49999</th>\n",
              "      <td>1.396534</td>\n",
              "      <td>1.044984</td>\n",
              "      <td>6.974686</td>\n",
              "      <td>-2.503387</td>\n",
              "      <td>-6.951460</td>\n",
              "      <td>-7.683350</td>\n",
              "      <td>-15.804647</td>\n",
              "      <td>-5.326198</td>\n",
              "      <td>11.574373</td>\n",
              "      <td>-2.756169</td>\n",
              "      <td>5.594694</td>\n",
              "      <td>-2.408064</td>\n",
              "      <td>6.790581</td>\n",
              "      <td>-12.917546</td>\n",
              "      <td>-5.899725</td>\n",
              "      <td>-24.414767</td>\n",
              "      <td>-37.180535</td>\n",
              "      <td>-2.134946</td>\n",
              "      <td>90.429367</td>\n",
              "      <td>-36.412232</td>\n",
              "    </tr>\n",
              "  </tbody>\n",
              "</table>\n",
              "<p>9999 rows × 20 columns</p>\n",
              "</div>\n",
              "    <div class=\"colab-df-buttons\">\n",
              "\n",
              "  <div class=\"colab-df-container\">\n",
              "    <button class=\"colab-df-convert\" onclick=\"convertToInteractive('df-9a590650-6f25-4a09-9116-15c352e67ff6')\"\n",
              "            title=\"Convert this dataframe to an interactive table.\"\n",
              "            style=\"display:none;\">\n",
              "\n",
              "  <svg xmlns=\"http://www.w3.org/2000/svg\" height=\"24px\" viewBox=\"0 -960 960 960\">\n",
              "    <path d=\"M120-120v-720h720v720H120Zm60-500h600v-160H180v160Zm220 220h160v-160H400v160Zm0 220h160v-160H400v160ZM180-400h160v-160H180v160Zm440 0h160v-160H620v160ZM180-180h160v-160H180v160Zm440 0h160v-160H620v160Z\"/>\n",
              "  </svg>\n",
              "    </button>\n",
              "\n",
              "  <style>\n",
              "    .colab-df-container {\n",
              "      display:flex;\n",
              "      gap: 12px;\n",
              "    }\n",
              "\n",
              "    .colab-df-convert {\n",
              "      background-color: #E8F0FE;\n",
              "      border: none;\n",
              "      border-radius: 50%;\n",
              "      cursor: pointer;\n",
              "      display: none;\n",
              "      fill: #1967D2;\n",
              "      height: 32px;\n",
              "      padding: 0 0 0 0;\n",
              "      width: 32px;\n",
              "    }\n",
              "\n",
              "    .colab-df-convert:hover {\n",
              "      background-color: #E2EBFA;\n",
              "      box-shadow: 0px 1px 2px rgba(60, 64, 67, 0.3), 0px 1px 3px 1px rgba(60, 64, 67, 0.15);\n",
              "      fill: #174EA6;\n",
              "    }\n",
              "\n",
              "    .colab-df-buttons div {\n",
              "      margin-bottom: 4px;\n",
              "    }\n",
              "\n",
              "    [theme=dark] .colab-df-convert {\n",
              "      background-color: #3B4455;\n",
              "      fill: #D2E3FC;\n",
              "    }\n",
              "\n",
              "    [theme=dark] .colab-df-convert:hover {\n",
              "      background-color: #434B5C;\n",
              "      box-shadow: 0px 1px 3px 1px rgba(0, 0, 0, 0.15);\n",
              "      filter: drop-shadow(0px 1px 2px rgba(0, 0, 0, 0.3));\n",
              "      fill: #FFFFFF;\n",
              "    }\n",
              "  </style>\n",
              "\n",
              "    <script>\n",
              "      const buttonEl =\n",
              "        document.querySelector('#df-9a590650-6f25-4a09-9116-15c352e67ff6 button.colab-df-convert');\n",
              "      buttonEl.style.display =\n",
              "        google.colab.kernel.accessAllowed ? 'block' : 'none';\n",
              "\n",
              "      async function convertToInteractive(key) {\n",
              "        const element = document.querySelector('#df-9a590650-6f25-4a09-9116-15c352e67ff6');\n",
              "        const dataTable =\n",
              "          await google.colab.kernel.invokeFunction('convertToInteractive',\n",
              "                                                    [key], {});\n",
              "        if (!dataTable) return;\n",
              "\n",
              "        const docLinkHtml = 'Like what you see? Visit the ' +\n",
              "          '<a target=\"_blank\" href=https://colab.research.google.com/notebooks/data_table.ipynb>data table notebook</a>'\n",
              "          + ' to learn more about interactive tables.';\n",
              "        element.innerHTML = '';\n",
              "        dataTable['output_type'] = 'display_data';\n",
              "        await google.colab.output.renderOutput(dataTable, element);\n",
              "        const docLink = document.createElement('div');\n",
              "        docLink.innerHTML = docLinkHtml;\n",
              "        element.appendChild(docLink);\n",
              "      }\n",
              "    </script>\n",
              "  </div>\n",
              "\n",
              "\n",
              "<div id=\"df-a4a740bb-56cb-4756-af4c-da9501009101\">\n",
              "  <button class=\"colab-df-quickchart\" onclick=\"quickchart('df-a4a740bb-56cb-4756-af4c-da9501009101')\"\n",
              "            title=\"Suggest charts\"\n",
              "            style=\"display:none;\">\n",
              "\n",
              "<svg xmlns=\"http://www.w3.org/2000/svg\" height=\"24px\"viewBox=\"0 0 24 24\"\n",
              "     width=\"24px\">\n",
              "    <g>\n",
              "        <path d=\"M19 3H5c-1.1 0-2 .9-2 2v14c0 1.1.9 2 2 2h14c1.1 0 2-.9 2-2V5c0-1.1-.9-2-2-2zM9 17H7v-7h2v7zm4 0h-2V7h2v10zm4 0h-2v-4h2v4z\"/>\n",
              "    </g>\n",
              "</svg>\n",
              "  </button>\n",
              "\n",
              "<style>\n",
              "  .colab-df-quickchart {\n",
              "      --bg-color: #E8F0FE;\n",
              "      --fill-color: #1967D2;\n",
              "      --hover-bg-color: #E2EBFA;\n",
              "      --hover-fill-color: #174EA6;\n",
              "      --disabled-fill-color: #AAA;\n",
              "      --disabled-bg-color: #DDD;\n",
              "  }\n",
              "\n",
              "  [theme=dark] .colab-df-quickchart {\n",
              "      --bg-color: #3B4455;\n",
              "      --fill-color: #D2E3FC;\n",
              "      --hover-bg-color: #434B5C;\n",
              "      --hover-fill-color: #FFFFFF;\n",
              "      --disabled-bg-color: #3B4455;\n",
              "      --disabled-fill-color: #666;\n",
              "  }\n",
              "\n",
              "  .colab-df-quickchart {\n",
              "    background-color: var(--bg-color);\n",
              "    border: none;\n",
              "    border-radius: 50%;\n",
              "    cursor: pointer;\n",
              "    display: none;\n",
              "    fill: var(--fill-color);\n",
              "    height: 32px;\n",
              "    padding: 0;\n",
              "    width: 32px;\n",
              "  }\n",
              "\n",
              "  .colab-df-quickchart:hover {\n",
              "    background-color: var(--hover-bg-color);\n",
              "    box-shadow: 0 1px 2px rgba(60, 64, 67, 0.3), 0 1px 3px 1px rgba(60, 64, 67, 0.15);\n",
              "    fill: var(--button-hover-fill-color);\n",
              "  }\n",
              "\n",
              "  .colab-df-quickchart-complete:disabled,\n",
              "  .colab-df-quickchart-complete:disabled:hover {\n",
              "    background-color: var(--disabled-bg-color);\n",
              "    fill: var(--disabled-fill-color);\n",
              "    box-shadow: none;\n",
              "  }\n",
              "\n",
              "  .colab-df-spinner {\n",
              "    border: 2px solid var(--fill-color);\n",
              "    border-color: transparent;\n",
              "    border-bottom-color: var(--fill-color);\n",
              "    animation:\n",
              "      spin 1s steps(1) infinite;\n",
              "  }\n",
              "\n",
              "  @keyframes spin {\n",
              "    0% {\n",
              "      border-color: transparent;\n",
              "      border-bottom-color: var(--fill-color);\n",
              "      border-left-color: var(--fill-color);\n",
              "    }\n",
              "    20% {\n",
              "      border-color: transparent;\n",
              "      border-left-color: var(--fill-color);\n",
              "      border-top-color: var(--fill-color);\n",
              "    }\n",
              "    30% {\n",
              "      border-color: transparent;\n",
              "      border-left-color: var(--fill-color);\n",
              "      border-top-color: var(--fill-color);\n",
              "      border-right-color: var(--fill-color);\n",
              "    }\n",
              "    40% {\n",
              "      border-color: transparent;\n",
              "      border-right-color: var(--fill-color);\n",
              "      border-top-color: var(--fill-color);\n",
              "    }\n",
              "    60% {\n",
              "      border-color: transparent;\n",
              "      border-right-color: var(--fill-color);\n",
              "    }\n",
              "    80% {\n",
              "      border-color: transparent;\n",
              "      border-right-color: var(--fill-color);\n",
              "      border-bottom-color: var(--fill-color);\n",
              "    }\n",
              "    90% {\n",
              "      border-color: transparent;\n",
              "      border-bottom-color: var(--fill-color);\n",
              "    }\n",
              "  }\n",
              "</style>\n",
              "\n",
              "  <script>\n",
              "    async function quickchart(key) {\n",
              "      const quickchartButtonEl =\n",
              "        document.querySelector('#' + key + ' button');\n",
              "      quickchartButtonEl.disabled = true;  // To prevent multiple clicks.\n",
              "      quickchartButtonEl.classList.add('colab-df-spinner');\n",
              "      try {\n",
              "        const charts = await google.colab.kernel.invokeFunction(\n",
              "            'suggestCharts', [key], {});\n",
              "      } catch (error) {\n",
              "        console.error('Error during call to suggestCharts:', error);\n",
              "      }\n",
              "      quickchartButtonEl.classList.remove('colab-df-spinner');\n",
              "      quickchartButtonEl.classList.add('colab-df-quickchart-complete');\n",
              "    }\n",
              "    (() => {\n",
              "      let quickchartButtonEl =\n",
              "        document.querySelector('#df-a4a740bb-56cb-4756-af4c-da9501009101 button');\n",
              "      quickchartButtonEl.style.display =\n",
              "        google.colab.kernel.accessAllowed ? 'block' : 'none';\n",
              "    })();\n",
              "  </script>\n",
              "</div>\n",
              "\n",
              "  <div id=\"id_c44dc0e8-416a-403a-9539-effd9472e589\">\n",
              "    <style>\n",
              "      .colab-df-generate {\n",
              "        background-color: #E8F0FE;\n",
              "        border: none;\n",
              "        border-radius: 50%;\n",
              "        cursor: pointer;\n",
              "        display: none;\n",
              "        fill: #1967D2;\n",
              "        height: 32px;\n",
              "        padding: 0 0 0 0;\n",
              "        width: 32px;\n",
              "      }\n",
              "\n",
              "      .colab-df-generate:hover {\n",
              "        background-color: #E2EBFA;\n",
              "        box-shadow: 0px 1px 2px rgba(60, 64, 67, 0.3), 0px 1px 3px 1px rgba(60, 64, 67, 0.15);\n",
              "        fill: #174EA6;\n",
              "      }\n",
              "\n",
              "      [theme=dark] .colab-df-generate {\n",
              "        background-color: #3B4455;\n",
              "        fill: #D2E3FC;\n",
              "      }\n",
              "\n",
              "      [theme=dark] .colab-df-generate:hover {\n",
              "        background-color: #434B5C;\n",
              "        box-shadow: 0px 1px 3px 1px rgba(0, 0, 0, 0.15);\n",
              "        filter: drop-shadow(0px 1px 2px rgba(0, 0, 0, 0.3));\n",
              "        fill: #FFFFFF;\n",
              "      }\n",
              "    </style>\n",
              "    <button class=\"colab-df-generate\" onclick=\"generateWithVariable('x_test')\"\n",
              "            title=\"Generate code using this dataframe.\"\n",
              "            style=\"display:none;\">\n",
              "\n",
              "  <svg xmlns=\"http://www.w3.org/2000/svg\" height=\"24px\"viewBox=\"0 0 24 24\"\n",
              "       width=\"24px\">\n",
              "    <path d=\"M7,19H8.4L18.45,9,17,7.55,7,17.6ZM5,21V16.75L18.45,3.32a2,2,0,0,1,2.83,0l1.4,1.43a1.91,1.91,0,0,1,.58,1.4,1.91,1.91,0,0,1-.58,1.4L9.25,21ZM18.45,9,17,7.55Zm-12,3A5.31,5.31,0,0,0,4.9,8.1,5.31,5.31,0,0,0,1,6.5,5.31,5.31,0,0,0,4.9,4.9,5.31,5.31,0,0,0,6.5,1,5.31,5.31,0,0,0,8.1,4.9,5.31,5.31,0,0,0,12,6.5,5.46,5.46,0,0,0,6.5,12Z\"/>\n",
              "  </svg>\n",
              "    </button>\n",
              "    <script>\n",
              "      (() => {\n",
              "      const buttonEl =\n",
              "        document.querySelector('#id_c44dc0e8-416a-403a-9539-effd9472e589 button.colab-df-generate');\n",
              "      buttonEl.style.display =\n",
              "        google.colab.kernel.accessAllowed ? 'block' : 'none';\n",
              "\n",
              "      buttonEl.onclick = () => {\n",
              "        google.colab.notebook.generateWithVariable('x_test');\n",
              "      }\n",
              "      })();\n",
              "    </script>\n",
              "  </div>\n",
              "\n",
              "    </div>\n",
              "  </div>\n"
            ]
          },
          "metadata": {},
          "execution_count": 93
        }
      ]
    },
    {
      "cell_type": "code",
      "source": [
        "mu     = np.mean(x_test,axis=0)\n",
        "sigma  = np.std(x_test,axis=0)\n",
        "x_test_norm = (x_test - mu)/sigma\n",
        "x_test_norm.shape"
      ],
      "metadata": {
        "colab": {
          "base_uri": "https://localhost:8080/"
        },
        "id": "lLHNB8AT6RmT",
        "outputId": "cf18807f-ca65-49ca-9d10-7c9180f3dc6f"
      },
      "execution_count": null,
      "outputs": [
        {
          "output_type": "execute_result",
          "data": {
            "text/plain": [
              "(9999, 20)"
            ]
          },
          "metadata": {},
          "execution_count": 94
        }
      ]
    },
    {
      "cell_type": "code",
      "source": [
        "y_pred_cv=np.dot(x_test_norm, w_norm) + b_norm\n",
        "y_pred_cv=y_pred_cv.T\n",
        "y_pred_cv"
      ],
      "metadata": {
        "colab": {
          "base_uri": "https://localhost:8080/"
        },
        "id": "ZRY7ikiW6Rju",
        "outputId": "50e26ed2-21f6-4fcb-e4d2-227b6e64b874"
      },
      "execution_count": null,
      "outputs": [
        {
          "output_type": "execute_result",
          "data": {
            "text/plain": [
              "array([[ -204.91103209, -5034.22130496, -5924.28858036, ...,\n",
              "        -8161.43666576, -9188.77715736,  3431.95143676]])"
            ]
          },
          "metadata": {},
          "execution_count": 95
        }
      ]
    },
    {
      "cell_type": "code",
      "source": [
        "y_cv = data.iloc[40001:50001,0]\n",
        "y_cv=y_cv[np.newaxis,:]\n",
        "y_cv"
      ],
      "metadata": {
        "colab": {
          "base_uri": "https://localhost:8080/"
        },
        "id": "wGwiAIbb6Rg_",
        "outputId": "0e06d01e-ed8b-45a9-ce7a-cc40b15e5e91"
      },
      "execution_count": null,
      "outputs": [
        {
          "output_type": "stream",
          "name": "stderr",
          "text": [
            "<ipython-input-96-55589fc7d91d>:2: FutureWarning: Support for multi-dimensional indexing (e.g. `obj[:, None]`) is deprecated and will be removed in a future version.  Convert to a numpy array before indexing instead.\n",
            "  y_cv=y_cv[np.newaxis,:]\n"
          ]
        },
        {
          "output_type": "execute_result",
          "data": {
            "text/plain": [
              "array([[ -217.48343391, -4993.79279268, -6007.06435646, ...,\n",
              "        -8246.69722146, -9101.10137698,  3420.72986003]])"
            ]
          },
          "metadata": {},
          "execution_count": 96
        }
      ]
    },
    {
      "cell_type": "code",
      "source": [
        "y_cv.shape"
      ],
      "metadata": {
        "colab": {
          "base_uri": "https://localhost:8080/"
        },
        "id": "pRmJshFbV6MD",
        "outputId": "634c7410-9ec1-4461-a8bf-25cdada04ec2"
      },
      "execution_count": null,
      "outputs": [
        {
          "output_type": "execute_result",
          "data": {
            "text/plain": [
              "(1, 9999)"
            ]
          },
          "metadata": {},
          "execution_count": 97
        }
      ]
    },
    {
      "cell_type": "code",
      "source": [
        "y_cv = y_cv.flatten()\n",
        "y_cv\n"
      ],
      "metadata": {
        "colab": {
          "base_uri": "https://localhost:8080/"
        },
        "id": "6b3soAyuxSbr",
        "outputId": "25f01096-370e-4fd3-d689-d4fbf11766d8"
      },
      "execution_count": null,
      "outputs": [
        {
          "output_type": "execute_result",
          "data": {
            "text/plain": [
              "array([ -217.48343391, -4993.79279268, -6007.06435646, ...,\n",
              "       -8246.69722146, -9101.10137698,  3420.72986003])"
            ]
          },
          "metadata": {},
          "execution_count": 98
        }
      ]
    },
    {
      "cell_type": "markdown",
      "source": [
        "# ***R2 score of Cross Validation Set***"
      ],
      "metadata": {
        "id": "0weK_qEOJHUo"
      }
    },
    {
      "cell_type": "code",
      "source": [
        "def r2_score(y_cv, y_pred_cv):\n",
        "    mean_y_cv = np.mean(y_cv)\n",
        "    ss_tot_cv = (y_cv - mean_y_cv) ** 2\n",
        "    ss_tot_cv = sum(ss_tot_cv)\n",
        "    ss_res_cv = (y_cv - y_pred_cv) ** 2\n",
        "    ss_res_cv = sum(ss_res_cv)\n",
        "    a= (ss_res_cv)/(ss_tot_cv)\n",
        "    r2=1-a\n",
        "\n",
        "    return r2\n",
        "\n",
        "y_pred_cv = np.dot(x_test_norm, w_norm) + b_norm\n",
        "y_pred_cv=y_pred_cv.T\n",
        "y_pred_cv = y_pred_cv.flatten()\n",
        "\n",
        "print(\"R2 Score\")\n",
        "print(r2_score(y_cv, y_pred_cv))"
      ],
      "metadata": {
        "colab": {
          "base_uri": "https://localhost:8080/"
        },
        "id": "J1CKfwOMJNrF",
        "outputId": "0f7ec3fc-bb50-49df-f72c-6192ee97ae14"
      },
      "execution_count": null,
      "outputs": [
        {
          "output_type": "stream",
          "name": "stdout",
          "text": [
            "R2 Score\n",
            "0.9998757489175094\n"
          ]
        }
      ]
    },
    {
      "cell_type": "markdown",
      "source": [
        "Since the R2 score is coming close to 1 , we can infer that the model is predicting correctly"
      ],
      "metadata": {
        "id": "MpuKOGZ490_E"
      }
    },
    {
      "cell_type": "markdown",
      "source": [
        "# ***Predicting Labels and saving csv files***"
      ],
      "metadata": {
        "id": "dOS8Uk8pS6q5"
      }
    },
    {
      "cell_type": "code",
      "source": [
        "#importing dataset\n",
        "data_pred = pd.read_csv('/content/Lineardata_test.csv')\n",
        "x_test= data_pred.iloc[:,1:21].values"
      ],
      "metadata": {
        "id": "lsMAal4gFZrj"
      },
      "execution_count": null,
      "outputs": []
    },
    {
      "cell_type": "code",
      "source": [
        "mu     = np.mean(x_test,axis=0)\n",
        "sigma  = np.std(x_test,axis=0)\n",
        "x_test_norm = (x_test - mu)/sigma\n",
        "x_test_norm.shape"
      ],
      "metadata": {
        "colab": {
          "base_uri": "https://localhost:8080/"
        },
        "id": "OxATLfuRTOk5",
        "outputId": "4934a703-86d1-455b-d708-77a812e01eb0"
      },
      "execution_count": null,
      "outputs": [
        {
          "output_type": "execute_result",
          "data": {
            "text/plain": [
              "(10000, 20)"
            ]
          },
          "metadata": {},
          "execution_count": 104
        }
      ]
    },
    {
      "cell_type": "code",
      "source": [
        "y_pred=np.dot(x_test_norm, w_norm) + b_norm\n",
        "y_pred"
      ],
      "metadata": {
        "colab": {
          "base_uri": "https://localhost:8080/"
        },
        "id": "9BOE-gFjTRcT",
        "outputId": "93e54f3e-2037-476b-e94f-6e12df40ed4d"
      },
      "execution_count": null,
      "outputs": [
        {
          "output_type": "execute_result",
          "data": {
            "text/plain": [
              "array([[ -5427.76938884],\n",
              "       [ 17698.86581462],\n",
              "       [  4678.94673112],\n",
              "       ...,\n",
              "       [  9562.84136767],\n",
              "       [-15205.99716909],\n",
              "       [ -1379.94636386]])"
            ]
          },
          "metadata": {},
          "execution_count": 105
        }
      ]
    },
    {
      "cell_type": "code",
      "source": [
        "y_pred.shape"
      ],
      "metadata": {
        "colab": {
          "base_uri": "https://localhost:8080/"
        },
        "id": "FRL65utXTVyd",
        "outputId": "190e9957-056d-4ea0-e32b-84cb39a3e033"
      },
      "execution_count": null,
      "outputs": [
        {
          "output_type": "execute_result",
          "data": {
            "text/plain": [
              "(10000, 1)"
            ]
          },
          "metadata": {},
          "execution_count": 106
        }
      ]
    },
    {
      "cell_type": "code",
      "source": [
        "data_pred.insert(0,'label',y_pred)"
      ],
      "metadata": {
        "id": "6BTXkcwITjWU"
      },
      "execution_count": null,
      "outputs": []
    },
    {
      "cell_type": "code",
      "source": [
        "#saving the dataframe as a csv file\n",
        "data_pred.to_csv('Lineardata_test_pred.csv',index=False)"
      ],
      "metadata": {
        "id": "Vh59bQjkTn4r"
      },
      "execution_count": null,
      "outputs": []
    },
    {
      "cell_type": "code",
      "source": [],
      "metadata": {
        "id": "HEEcgzi6-3oY"
      },
      "execution_count": null,
      "outputs": []
    }
  ],
  "metadata": {
    "colab": {
      "provenance": []
    },
    "kernelspec": {
      "display_name": "Python 3",
      "name": "python3"
    },
    "language_info": {
      "name": "python"
    }
  },
  "nbformat": 4,
  "nbformat_minor": 0
}