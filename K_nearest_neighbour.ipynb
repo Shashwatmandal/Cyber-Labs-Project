{
  "nbformat": 4,
  "nbformat_minor": 0,
  "metadata": {
    "colab": {
      "provenance": []
    },
    "kernelspec": {
      "name": "python3",
      "display_name": "Python 3"
    },
    "language_info": {
      "name": "python"
    }
  },
  "cells": [
    {
      "cell_type": "code",
      "execution_count": null,
      "metadata": {
        "id": "Nf6Jb1RprgyO"
      },
      "outputs": [],
      "source": [
        "import numpy as np\n",
        "import pandas as pd\n",
        "import matplotlib.pyplot as plt\n",
        "import math\n",
        "import random"
      ]
    },
    {
      "cell_type": "code",
      "source": [
        "data = pd.read_csv('/content/drive/MyDrive/Dataset/Classification_train.csv')"
      ],
      "metadata": {
        "id": "gVO0ODtHroPv"
      },
      "execution_count": null,
      "outputs": []
    },
    {
      "cell_type": "code",
      "source": [
        "x = data.iloc[:20000,1:785].values\n",
        "\n",
        "y = data.iloc[:20000,0].values\n",
        "y=y[np.newaxis,:] #y = y.reshape(y.shape[0],1)\n",
        "y=y.T"
      ],
      "metadata": {
        "id": "8QX6WdXvsSwH"
      },
      "execution_count": null,
      "outputs": []
    },
    {
      "cell_type": "code",
      "source": [
        "m,n=x.shape\n",
        "m,n"
      ],
      "metadata": {
        "colab": {
          "base_uri": "https://localhost:8080/"
        },
        "id": "_btU4ZkPsZ0-",
        "outputId": "2f144f64-9f1a-4752-ae11-c6ffaedd6008"
      },
      "execution_count": null,
      "outputs": [
        {
          "output_type": "execute_result",
          "data": {
            "text/plain": [
              "(20000, 784)"
            ]
          },
          "metadata": {},
          "execution_count": 4
        }
      ]
    },
    {
      "cell_type": "code",
      "source": [
        "k=60"
      ],
      "metadata": {
        "id": "8SCa33K7seVT"
      },
      "execution_count": null,
      "outputs": []
    },
    {
      "cell_type": "code",
      "source": [
        "\n",
        "x2 = data.iloc[20000:,1:].values\n",
        "M,N=x2.shape\n",
        "M,N"
      ],
      "metadata": {
        "colab": {
          "base_uri": "https://localhost:8080/"
        },
        "id": "qFJb23jSsjmU",
        "outputId": "dd4d7e30-dbb5-4a78-f5ed-caeca2ccd3fa"
      },
      "execution_count": null,
      "outputs": [
        {
          "output_type": "execute_result",
          "data": {
            "text/plain": [
              "(10000, 784)"
            ]
          },
          "metadata": {},
          "execution_count": 7
        }
      ]
    },
    {
      "cell_type": "code",
      "source": [
        "def Euclidean_distance():\n",
        "    distance=np.zeros((m,M))\n",
        "    for j in range(M):\n",
        "\n",
        "        distance[:,j]=np.sqrt(np.sum((x-x2[j,:])**2,axis=1))\n",
        "\n",
        "    return distance\n",
        "Euclidean_distance=Euclidean_distance()"
      ],
      "metadata": {
        "id": "GwpEZo4RskV4"
      },
      "execution_count": null,
      "outputs": []
    },
    {
      "cell_type": "code",
      "source": [
        "Euclidean_distance.shape"
      ],
      "metadata": {
        "colab": {
          "base_uri": "https://localhost:8080/"
        },
        "id": "ikpsCbbzsxff",
        "outputId": "20da58ad-2bb0-43db-9a3f-8226eb722cf8"
      },
      "execution_count": null,
      "outputs": [
        {
          "output_type": "execute_result",
          "data": {
            "text/plain": [
              "(20000, 10000)"
            ]
          },
          "metadata": {},
          "execution_count": 9
        }
      ]
    },
    {
      "cell_type": "code",
      "source": [
        "KNN_PRED_FINAL=[]\n",
        "\n",
        "for j in range(M):\n",
        "    c=(Euclidean_distance[:,j]).reshape(m,1)\n",
        "    distance_label=np.concatenate((c,y.reshape(m,1)), axis=1)\n",
        "    k_sorted=(distance_label[distance_label[:, 0].argsort()])[0:k,:]\n",
        "\n",
        "    b=(np.unique(y))\n",
        "    count=np.zeros((len(b),1))\n",
        "    for i in range(k):\n",
        "        for j in range(len(b)):\n",
        "            if k_sorted[i,1]==b[j]:    count[b[j],0]+=1\n",
        "\n",
        "#     pred_test=np.argmax(k_sorted)\n",
        "    KNN_PRED_FINAL.append(np.argmax(count))"
      ],
      "metadata": {
        "id": "I9o-wClfylUA"
      },
      "execution_count": null,
      "outputs": []
    },
    {
      "cell_type": "code",
      "source": [
        "y_test = data.iloc[20000:,0].values"
      ],
      "metadata": {
        "id": "h-VO3_nZyrd_"
      },
      "execution_count": null,
      "outputs": []
    },
    {
      "cell_type": "code",
      "source": [
        "count_pred=0\n",
        "for i in range(M):\n",
        "\n",
        "    if y_test[i] == KNN_PRED_FINAL[i]:\n",
        "        count_pred+=1\n",
        "print(count_pred)"
      ],
      "metadata": {
        "colab": {
          "base_uri": "https://localhost:8080/"
        },
        "id": "-_lhd7fWy-SD",
        "outputId": "504577d6-d6b3-4103-a074-59b3290bae30"
      },
      "execution_count": null,
      "outputs": [
        {
          "output_type": "stream",
          "name": "stdout",
          "text": [
            "9559\n"
          ]
        }
      ]
    },
    {
      "cell_type": "code",
      "source": [
        "accuracy=(count_pred/M)*100\n",
        "print('Accuracy on test data = '+str(accuracy)+'%')"
      ],
      "metadata": {
        "colab": {
          "base_uri": "https://localhost:8080/"
        },
        "id": "WnZwKKzQzBSA",
        "outputId": "51dbc661-8249-4720-aa1f-6fa7215d5748"
      },
      "execution_count": null,
      "outputs": [
        {
          "output_type": "stream",
          "name": "stdout",
          "text": [
            "Accuracy on test data = 95.59%\n"
          ]
        }
      ]
    },
    {
      "cell_type": "code",
      "source": [],
      "metadata": {
        "id": "oss7PQwwzHgD"
      },
      "execution_count": null,
      "outputs": []
    }
  ]
}